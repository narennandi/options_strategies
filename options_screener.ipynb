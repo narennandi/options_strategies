{
 "metadata": {
  "language_info": {
   "codemirror_mode": {
    "name": "ipython",
    "version": 3
   },
   "file_extension": ".py",
   "mimetype": "text/x-python",
   "name": "python",
   "nbconvert_exporter": "python",
   "pygments_lexer": "ipython3",
   "version": "3.8.8"
  },
  "orig_nbformat": 2,
  "kernelspec": {
   "name": "python388jvsc74a57bd0f7451ec516a32df5d3f24bb23284462048a556acc57818821b8191c1cde58dc7",
   "display_name": "Python 3.8.8 64-bit ('options': conda)"
  }
 },
 "nbformat": 4,
 "nbformat_minor": 2,
 "cells": [
  {
   "cell_type": "code",
   "execution_count": 71,
   "metadata": {},
   "outputs": [],
   "source": [
    "import robin_stocks\n",
    "import robin_stocks.robinhood as r\n",
    "import pandas as pd\n",
    "from configs import *\n",
    "login = r.login(username, pwd)"
   ]
  },
  {
   "cell_type": "code",
   "execution_count": 72,
   "metadata": {},
   "outputs": [],
   "source": [
    "final_table_columns = ['chain_symbol','expiration_date', 'rhs_tradability', \n",
    "                        'state', 'strike_price', 'tradability', 'type', \n",
    "                        'ask_price', 'bid_price', 'break_even_price',\n",
    "                        'instrument', 'open_interest', 'volume' ,'symbol', 'chance_of_profit_long',\n",
    "                        'chance_of_profit_short', 'delta', 'gamma', 'implied_volatility',\n",
    "                        'rho', 'theta', 'vega']"
   ]
  },
  {
   "cell_type": "code",
   "execution_count": 73,
   "metadata": {},
   "outputs": [
    {
     "output_type": "stream",
     "name": "stdout",
     "text": [
      "Found Additional pages.\n",
      "Loading page 2 ...\n",
      "Loading Market Data Loading Market Data Loading Market Data Loading Market Data Loading Market Data Loading Market Data Loading Market Data Loading Market Data Loading Market Data Loading Market Data Loading Market Data Loading Market Data Loading Market Data Loading Market Data Loading Market Data Loading Market Data Loading Market Data Loading Market Data Loading Market Data Loading Market Data Loading Market Data Loading Market Data Loading Market Data Loading Market Data Loading Market Data Loading Market Data Loading Market Data Loading Market Data Loading Market Data Loading Market Data Loading Market Data Loading Market Data Loading Market Data Loading Market Data Loading Market Data Loading Market Data Loading Market Data Loading Market Data Loading Market Data Loading Market Data Loading Market Data Loading Market Data Loading Market Data Loading Market Data Loading Market Data Loading Market Data Loading Market Data Loading Market Data Loading Market Data Loading Market Data Loading Market Data Loading Market Data Loading Market Data Loading Market Data Loading Market Data Loading Market Data Loading Market Data Loading Market Data Loading Market Data Loading Market Data Loading Market Data Loading Market Data Loading Market Data Loading Market Data Loading Market Data Loading Market Data Loading Market Data Loading Market Data Loading Market Data Loading Market Data Loading Market Data Loading Market Data Loading Market Data Loading Market Data Loading Market Data Loading Market Data Loading Market Data Loading Market Data Loading Market Data Loading Market Data Loading Market Data Loading Market Data Loading Market Data Loading Market Data Loading Market Data Loading Market Data Loading Market Data Loading Market Data Loading Market Data Loading Market Data Loading Market Data Loading Market Data Loading Market Data Loading Market Data Loading Market Data Loading Market Data Loading Market Data Loading Market Data Loading Market Data Loading Market Data Loading Market Data Loading Market Data Loading Market Data Loading Market Data Loading Market Data Loading Market Data Loading Market Data Loading Market Data Loading Market Data Loading Market Data Loading Market Data Loading Market Data Loading Market Data Loading Market Data Loading Market Data Loading Market Data Loading Market Data Loading Market Data Loading Market Data Loading Market Data Loading Market Data Loading Market Data Loading Market Data Loading Market Data Loading Market Data Loading Market Data Loading Market Data Loading Market Data Loading Market Data Loading Market Data Loading Market Data Loading Market Data Loading Market Data Loading Market Data Loading Market Data Loading Market Data Loading Market Data Loading Market Data Loading Market Data Loading Market Data Loading Market Data "
     ]
    }
   ],
   "source": [
    "optionData = r.find_options_by_expiration(\n",
    "        'tsla', \n",
    "        expirationDate='2021-05-21',\n",
    "        optionType='call'\n",
    "    )\n",
    "\n",
    "df = pd.DataFrame(optionData)\n",
    "df = df.drop(columns=[col for col in df if col not in final_table_columns])"
   ]
  },
  {
   "cell_type": "code",
   "execution_count": 74,
   "metadata": {},
   "outputs": [
    {
     "output_type": "execute_result",
     "data": {
      "text/plain": [
       "  chain_symbol expiration_date rhs_tradability   state strike_price  \\\n",
       "0         TSLA      2021-05-21      untradable  active     905.0000   \n",
       "1         TSLA      2021-05-21      untradable  active     925.0000   \n",
       "2         TSLA      2021-05-21      untradable  active     990.0000   \n",
       "3         TSLA      2021-05-21      untradable  active     555.0000   \n",
       "4         TSLA      2021-05-21      untradable  active    1525.0000   \n",
       "\n",
       "  tradability  type  ask_price  bid_price break_even_price  ... volume  \\\n",
       "0    tradable  call   0.130000   0.060000       905.100000  ...     37   \n",
       "1    tradable  call   0.110000   0.050000       925.080000  ...     54   \n",
       "2    tradable  call   0.080000   0.030000       990.060000  ...     70   \n",
       "3    tradable  call  34.150000  33.500000       588.830000  ...    270   \n",
       "4    tradable  call   0.010000   0.000000      1525.010000  ...      0   \n",
       "\n",
       "   symbol  chance_of_profit_long chance_of_profit_short     delta     gamma  \\\n",
       "0    TSLA               0.002160               0.997840  0.003602  0.000114   \n",
       "1    TSLA               0.001692               0.998308  0.002881  0.000091   \n",
       "2    TSLA               0.001115               0.998885  0.002037  0.000061   \n",
       "3    TSLA               0.372824               0.627176  0.627703  0.006048   \n",
       "4    TSLA               0.000094               0.999906  0.000269  0.000006   \n",
       "\n",
       "  implied_volatility       rho      theta      vega  \n",
       "0           1.133660  0.000419  -0.065475  0.009018  \n",
       "1           1.156152  0.000335  -0.054622  0.007377  \n",
       "2           1.266190  0.000236  -0.043712  0.005390  \n",
       "3           0.748167  0.069525  -1.516942  0.316329  \n",
       "4           1.864959  0.000031  -0.009996  0.000837  \n",
       "\n",
       "[5 rows x 22 columns]"
      ],
      "text/html": "<div>\n<style scoped>\n    .dataframe tbody tr th:only-of-type {\n        vertical-align: middle;\n    }\n\n    .dataframe tbody tr th {\n        vertical-align: top;\n    }\n\n    .dataframe thead th {\n        text-align: right;\n    }\n</style>\n<table border=\"1\" class=\"dataframe\">\n  <thead>\n    <tr style=\"text-align: right;\">\n      <th></th>\n      <th>chain_symbol</th>\n      <th>expiration_date</th>\n      <th>rhs_tradability</th>\n      <th>state</th>\n      <th>strike_price</th>\n      <th>tradability</th>\n      <th>type</th>\n      <th>ask_price</th>\n      <th>bid_price</th>\n      <th>break_even_price</th>\n      <th>...</th>\n      <th>volume</th>\n      <th>symbol</th>\n      <th>chance_of_profit_long</th>\n      <th>chance_of_profit_short</th>\n      <th>delta</th>\n      <th>gamma</th>\n      <th>implied_volatility</th>\n      <th>rho</th>\n      <th>theta</th>\n      <th>vega</th>\n    </tr>\n  </thead>\n  <tbody>\n    <tr>\n      <th>0</th>\n      <td>TSLA</td>\n      <td>2021-05-21</td>\n      <td>untradable</td>\n      <td>active</td>\n      <td>905.0000</td>\n      <td>tradable</td>\n      <td>call</td>\n      <td>0.130000</td>\n      <td>0.060000</td>\n      <td>905.100000</td>\n      <td>...</td>\n      <td>37</td>\n      <td>TSLA</td>\n      <td>0.002160</td>\n      <td>0.997840</td>\n      <td>0.003602</td>\n      <td>0.000114</td>\n      <td>1.133660</td>\n      <td>0.000419</td>\n      <td>-0.065475</td>\n      <td>0.009018</td>\n    </tr>\n    <tr>\n      <th>1</th>\n      <td>TSLA</td>\n      <td>2021-05-21</td>\n      <td>untradable</td>\n      <td>active</td>\n      <td>925.0000</td>\n      <td>tradable</td>\n      <td>call</td>\n      <td>0.110000</td>\n      <td>0.050000</td>\n      <td>925.080000</td>\n      <td>...</td>\n      <td>54</td>\n      <td>TSLA</td>\n      <td>0.001692</td>\n      <td>0.998308</td>\n      <td>0.002881</td>\n      <td>0.000091</td>\n      <td>1.156152</td>\n      <td>0.000335</td>\n      <td>-0.054622</td>\n      <td>0.007377</td>\n    </tr>\n    <tr>\n      <th>2</th>\n      <td>TSLA</td>\n      <td>2021-05-21</td>\n      <td>untradable</td>\n      <td>active</td>\n      <td>990.0000</td>\n      <td>tradable</td>\n      <td>call</td>\n      <td>0.080000</td>\n      <td>0.030000</td>\n      <td>990.060000</td>\n      <td>...</td>\n      <td>70</td>\n      <td>TSLA</td>\n      <td>0.001115</td>\n      <td>0.998885</td>\n      <td>0.002037</td>\n      <td>0.000061</td>\n      <td>1.266190</td>\n      <td>0.000236</td>\n      <td>-0.043712</td>\n      <td>0.005390</td>\n    </tr>\n    <tr>\n      <th>3</th>\n      <td>TSLA</td>\n      <td>2021-05-21</td>\n      <td>untradable</td>\n      <td>active</td>\n      <td>555.0000</td>\n      <td>tradable</td>\n      <td>call</td>\n      <td>34.150000</td>\n      <td>33.500000</td>\n      <td>588.830000</td>\n      <td>...</td>\n      <td>270</td>\n      <td>TSLA</td>\n      <td>0.372824</td>\n      <td>0.627176</td>\n      <td>0.627703</td>\n      <td>0.006048</td>\n      <td>0.748167</td>\n      <td>0.069525</td>\n      <td>-1.516942</td>\n      <td>0.316329</td>\n    </tr>\n    <tr>\n      <th>4</th>\n      <td>TSLA</td>\n      <td>2021-05-21</td>\n      <td>untradable</td>\n      <td>active</td>\n      <td>1525.0000</td>\n      <td>tradable</td>\n      <td>call</td>\n      <td>0.010000</td>\n      <td>0.000000</td>\n      <td>1525.010000</td>\n      <td>...</td>\n      <td>0</td>\n      <td>TSLA</td>\n      <td>0.000094</td>\n      <td>0.999906</td>\n      <td>0.000269</td>\n      <td>0.000006</td>\n      <td>1.864959</td>\n      <td>0.000031</td>\n      <td>-0.009996</td>\n      <td>0.000837</td>\n    </tr>\n  </tbody>\n</table>\n<p>5 rows × 22 columns</p>\n</div>"
     },
     "metadata": {},
     "execution_count": 74
    }
   ],
   "source": [
    "df.head()"
   ]
  },
  {
   "cell_type": "code",
   "execution_count": 55,
   "metadata": {},
   "outputs": [],
   "source": []
  },
  {
   "cell_type": "code",
   "execution_count": 56,
   "metadata": {},
   "outputs": [],
   "source": []
  }
 ]
}