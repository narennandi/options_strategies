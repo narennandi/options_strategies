{
 "metadata": {
  "language_info": {
   "codemirror_mode": {
    "name": "ipython",
    "version": 3
   },
   "file_extension": ".py",
   "mimetype": "text/x-python",
   "name": "python",
   "nbconvert_exporter": "python",
   "pygments_lexer": "ipython3",
   "version": "3.8.8"
  },
  "orig_nbformat": 2,
  "kernelspec": {
   "name": "python388jvsc74a57bd0f7451ec516a32df5d3f24bb23284462048a556acc57818821b8191c1cde58dc7",
   "display_name": "Python 3.8.8 64-bit ('options': conda)"
  }
 },
 "nbformat": 4,
 "nbformat_minor": 2,
 "cells": [
  {
   "cell_type": "code",
   "execution_count": 163,
   "metadata": {},
   "outputs": [
    {
     "output_type": "stream",
     "name": "stdout",
     "text": [
      "The autoreload extension is already loaded. To reload it, use:\n  %reload_ext autoreload\n"
     ]
    }
   ],
   "source": [
    "%load_ext autoreload\n",
    "%autoreload 2\n",
    "%reload_ext autoreload\n",
    "\n",
    "from rest import Rest\n",
    "import pandas as pd\n",
    "import numpy as np\n",
    "from strategies import OptionStrat\n",
    "pd.set_option('display.max_rows', None)"
   ]
  },
  {
   "cell_type": "code",
   "execution_count": 303,
   "metadata": {},
   "outputs": [
    {
     "output_type": "stream",
     "name": "stdout",
     "text": [
      "Loading Market Data Loading Market Data Loading Market Data Loading Market Data Loading Market Data Loading Market Data Loading Market Data Loading Market Data Loading Market Data Loading Market Data Loading Market Data Loading Market Data Loading Market Data Loading Market Data Loading Market Data Loading Market Data Loading Market Data Loading Market Data Loading Market Data Loading Market Data Loading Market Data Loading Market Data Loading Market Data Loading Market Data Loading Market Data Loading Market Data Loading Market Data Loading Market Data Loading Market Data Loading Market Data Loading Market Data Loading Market Data Loading Market Data Loading Market Data Loading Market Data Loading Market Data Loading Market Data Loading Market Data Loading Market Data Loading Market Data Loading Market Data Loading Market Data Loading Market Data Loading Market Data Loading Market Data Loading Market Data Loading Market Data Loading Market Data Loading Market Data Loading Market Data Loading Market Data Loading Market Data Loading Market Data Loading Market Data Loading Market Data Loading Market Data Loading Market Data Loading Market Data Loading Market Data Loading Market Data Loading Market Data Loading Market Data Loading Market Data Loading Market Data Loading Market Data Loading Market Data Loading Market Data Loading Market Data Loading Market Data Loading Market Data Loading Market Data Loading Market Data Loading Market Data Loading Market Data Loading Market Data Loading Market Data Loading Market Data Loading Market Data Loading Market Data Loading Market Data Loading Market Data Loading Market Data Loading Market Data Loading Market Data Loading Market Data Loading Market Data Loading Market Data Loading Market Data Loading Market Data Loading Market Data Loading Market Data Loading Market Data Loading Market Data Loading Market Data Loading Market Data Loading Market Data Loading Market Data Loading Market Data Loading Market Data Loading Market Data Loading Market Data Loading Market Data Loading Market Data Loading Market Data Loading Market Data Loading Market Data Loading Market Data Loading Market Data Loading Market Data Loading Market Data Loading Market Data Loading Market Data Loading Market Data Loading Market Data Loading Market Data Loading Market Data Loading Market Data Loading Market Data Loading Market Data Loading Market Data Loading Market Data Loading Market Data Loading Market Data Loading Market Data Loading Market Data Loading Market Data Loading Market Data Loading Market Data Loading Market Data Loading Market Data Loading Market Data Loading Market Data Loading Market Data Loading Market Data Loading Market Data Loading Market Data Loading Market Data Loading Market Data Loading Market Data Loading Market Data Loading Market Data Loading Market Data Loading Market Data Loading Market Data Loading Market Data Loading Market Data Loading Market Data Loading Market Data Loading Market Data Loading Market Data Loading Market Data Loading Market Data Loading Market Data Loading Market Data Loading Market Data Loading Market Data Loading Market Data Loading Market Data Loading Market Data Loading Market Data Loading Market Data Loading Market Data Loading Market Data Loading Market Data Loading Market Data Loading Market Data Loading Market Data Loading Market Data Loading Market Data Loading Market Data Loading Market Data Loading Market Data Loading Market Data Loading Market Data Loading Market Data Loading Market Data Loading Market Data Loading Market Data Loading Market Data Loading Market Data Loading Market Data Loading Market Data Loading Market Data Loading Market Data Loading Market Data Loading Market Data Loading Market Data Loading Market Data Loading Market Data Loading Market Data Loading Market Data Loading Market Data Loading Market Data Loading Market Data "
     ]
    }
   ],
   "source": [
    "conn = Rest()\n",
    "ticker = 'SPY'\n",
    "call_option_chain = pd.DataFrame(conn.get_option_data(ticker, '2021-05-21', 'call'))\n",
    "put_option_chain = pd.DataFrame(conn.get_option_data(ticker, '2021-05-21', 'put'))\n",
    "latest_price = conn.get_latest_price(ticker)"
   ]
  },
  {
   "cell_type": "code",
   "execution_count": 310,
   "metadata": {},
   "outputs": [],
   "source": [
    "#convert to strike prices to float\n",
    "call_option_chain[\"strike_price\"] = call_option_chain.strike_price.astype(float)\n",
    "put_option_chain[\"strike_price\"] = put_option_chain.strike_price.astype(float)\n",
    "\n",
    "#convert delta prices to float\n",
    "call_option_chain[\"delta\"] = call_option_chain.delta.astype(float)\n",
    "put_option_chain[\"delta\"] = put_option_chain.delta.astype(float)\n",
    "\n",
    "delta = 0.16\n",
    "# # get all rows from call option chain where strike price greater than latest price of underlying and delta greater than 0.16\n",
    "call_option_chain_filtered = call_option_chain[(call_option_chain.strike_price > latest_price ) & (call_option_chain.delta < delta)]\n",
    "\n",
    "#get all rows from put option chain below latest price of underlying\n",
    "put_option_chain_filtered = put_option_chain[(put_option_chain.strike_price < latest_price ) & (put_option_chain.delta > -delta)]\n",
    "\n",
    "#sort the dataframe based on strike prices\n",
    "call_option_chain_filtered = call_option_chain_filtered.sort_values(by=['strike_price'], ascending = False)\n",
    "put_option_chain_filtered = put_option_chain_filtered.sort_values(by=['strike_price'], ascending = False)"
   ]
  },
  {
   "cell_type": "code",
   "execution_count": 311,
   "metadata": {},
   "outputs": [],
   "source": [
    "call_options_prices = []\n",
    "for index, row in call_option_chain_filtered.iterrows():\n",
    "    if float(row['bid_price']) > 0 and float(row['ask_price']) > 0:\n",
    "        call_options_prices.append({\n",
    "            'strike_price': row['strike_price'], \n",
    "            'bid': float(row['bid_price']), \n",
    "            'ask': float(row['ask_price'])\n",
    "        })\n",
    "\n",
    "put_options_prices = []\n",
    "for index, row in put_option_chain_filtered.iterrows():\n",
    "    if float(row['bid_price']) > 0 and float(row['ask_price']) > 0:\n",
    "        put_options_prices.append({\n",
    "            'strike_price': row['strike_price'], \n",
    "            'bid': float(row['bid_price']), \n",
    "            'ask': float(row['ask_price'])\n",
    "        })"
   ]
  },
  {
   "cell_type": "code",
   "execution_count": 312,
   "metadata": {},
   "outputs": [],
   "source": [
    "call_credit_spreads = []\n",
    "for i in range(len(call_options_prices)-1):\n",
    "    call_credit_spreads.append({'buy' : call_options_prices[i], \n",
    "                                'sell': call_options_prices[i+1]})\n",
    "\n",
    "put_credit_spreads = []\n",
    "for i in range(len(put_options_prices)-1):\n",
    "    put_credit_spreads.append({'sell' : put_options_prices[i], \n",
    "                                'buy': put_options_prices[i+1]})"
   ]
  },
  {
   "cell_type": "code",
   "execution_count": 313,
   "metadata": {},
   "outputs": [
    {
     "output_type": "stream",
     "name": "stderr",
     "text": [
      "c:\\trading_projects\\options_strats\\strategies.py:90: RuntimeWarning: divide by zero encountered in double_scalars\n  risk_to_reward_ratio = round(abs(max_loss / max_profit),3)\n"
     ]
    }
   ],
   "source": [
    "df = pd.DataFrame()\n",
    "\n",
    "for call_credit_spread in call_credit_spreads:\n",
    "    for put_credit_spread in put_credit_spreads:\n",
    "        obj = OptionStrat('Iron Condor', 200, {'start': put_credit_spread['buy']['strike_price'] - 50, 'stop':call_credit_spread['buy']['strike_price']+50,'by':1})\n",
    "        \n",
    "        obj.long_call(call_credit_spread['buy']['strike_price'], call_credit_spread['buy']['ask'], 1)        \n",
    "        obj.short_call(call_credit_spread['sell']['strike_price'], call_credit_spread['sell']['bid'], 1)\n",
    "        \n",
    "        obj.short_put(put_credit_spread['sell']['strike_price'], put_credit_spread['sell']['bid'], 1)  \n",
    "        obj.long_put(put_credit_spread['buy']['strike_price'], put_credit_spread['buy']['ask'], 1)           \n",
    "        \n",
    "        # obj.plot(color='black', linewidth=2)  \n",
    "        # obj.describe()\n",
    "        max_profit, max_loss, probability_of_success, risk_to_reward_ratio = obj.calculate_metrics()\n",
    "        df = df.append({\n",
    "            'long_call_strike':call_credit_spread['buy']['strike_price'], \n",
    "            'long_call_strike_ask': call_credit_spread['buy']['ask'],\n",
    "            'short_call_strike': call_credit_spread['sell']['strike_price'], \n",
    "            'short_call_strike_bid': call_credit_spread['sell']['bid'],\n",
    "            'short_put_strike': put_credit_spread['sell']['strike_price'],\n",
    "            'short_put_strike_bid':put_credit_spread['sell']['bid'],\n",
    "            'long_put_strike': put_credit_spread['buy']['strike_price'],\n",
    "            'long_put_strike_ask': put_credit_spread['buy']['ask'],\n",
    "            'max_profit' : max_profit, \n",
    "            'max_loss': max_loss, \n",
    "            'probability_of_success':probability_of_success, \n",
    "            'risk_to_reward_ratio':risk_to_reward_ratio,\n",
    "            'break_even_price': (call_credit_spread['sell']['strike_price'], put_credit_spread['sell']['strike_price'])\n",
    "            },\n",
    "            ignore_index = True)"
   ]
  },
  {
   "cell_type": "code",
   "execution_count": 315,
   "metadata": {},
   "outputs": [
    {
     "output_type": "execute_result",
     "data": {
      "text/plain": [
       "     short_call_strike  short_call_strike_bid  long_call_strike  \\\n",
       "465              132.0                   0.24             133.0   \n",
       "466              132.0                   0.24             133.0   \n",
       "467              132.0                   0.24             133.0   \n",
       "468              132.0                   0.24             133.0   \n",
       "434              133.0                   0.15             134.0   \n",
       "..                 ...                    ...               ...   \n",
       "34               146.0                   0.01             148.0   \n",
       "36               146.0                   0.01             148.0   \n",
       "39               146.0                   0.01             148.0   \n",
       "41               146.0                   0.01             148.0   \n",
       "45               146.0                   0.01             148.0   \n",
       "\n",
       "     long_call_strike_ask  short_put_strike  short_put_strike_bid  \\\n",
       "465                  0.16             122.0                  0.38   \n",
       "466                  0.16             121.0                  0.30   \n",
       "467                  0.16             120.0                  0.25   \n",
       "468                  0.16             119.0                  0.21   \n",
       "434                  0.11             122.0                  0.38   \n",
       "..                    ...               ...                   ...   \n",
       "34                   0.02             119.0                  0.21   \n",
       "36                   0.02             117.0                  0.15   \n",
       "39                   0.02             114.0                  0.10   \n",
       "41                   0.02             112.0                  0.08   \n",
       "45                   0.02             108.0                  0.05   \n",
       "\n",
       "     long_put_strike  long_put_strike_ask  max_loss  max_profit  \\\n",
       "465            121.0                 0.33     -0.87        0.13   \n",
       "466            120.0                 0.27     -0.89        0.11   \n",
       "467            119.0                 0.22     -0.89        0.11   \n",
       "468            118.0                 0.19     -0.90        0.10   \n",
       "434            121.0                 0.33     -0.91        0.09   \n",
       "..               ...                  ...       ...         ...   \n",
       "34             118.0                 0.19     -1.99        0.01   \n",
       "36             116.0                 0.15     -2.01       -0.01   \n",
       "39             113.0                 0.10     -2.01       -0.01   \n",
       "41             111.0                 0.08     -2.01       -0.01   \n",
       "45             107.0                 0.05     -2.01       -0.01   \n",
       "\n",
       "     risk_to_reward_ratio  probability_of_success break_even_price  \n",
       "465                 6.692                   0.851   (132.0, 122.0)  \n",
       "466                 8.091                   0.876   (132.0, 121.0)  \n",
       "467                 8.091                   0.876   (132.0, 120.0)  \n",
       "468                 9.000                   0.889   (132.0, 119.0)  \n",
       "434                10.111                   0.901   (133.0, 122.0)  \n",
       "..                    ...                     ...              ...  \n",
       "34                199.000                   0.995   (146.0, 119.0)  \n",
       "36                201.000                   0.995   (146.0, 117.0)  \n",
       "39                201.000                   0.995   (146.0, 114.0)  \n",
       "41                201.000                   0.995   (146.0, 112.0)  \n",
       "45                201.000                   0.995   (146.0, 108.0)  \n",
       "\n",
       "[430 rows x 13 columns]"
      ],
      "text/html": "<div>\n<style scoped>\n    .dataframe tbody tr th:only-of-type {\n        vertical-align: middle;\n    }\n\n    .dataframe tbody tr th {\n        vertical-align: top;\n    }\n\n    .dataframe thead th {\n        text-align: right;\n    }\n</style>\n<table border=\"1\" class=\"dataframe\">\n  <thead>\n    <tr style=\"text-align: right;\">\n      <th></th>\n      <th>short_call_strike</th>\n      <th>short_call_strike_bid</th>\n      <th>long_call_strike</th>\n      <th>long_call_strike_ask</th>\n      <th>short_put_strike</th>\n      <th>short_put_strike_bid</th>\n      <th>long_put_strike</th>\n      <th>long_put_strike_ask</th>\n      <th>max_loss</th>\n      <th>max_profit</th>\n      <th>risk_to_reward_ratio</th>\n      <th>probability_of_success</th>\n      <th>break_even_price</th>\n    </tr>\n  </thead>\n  <tbody>\n    <tr>\n      <th>465</th>\n      <td>132.0</td>\n      <td>0.24</td>\n      <td>133.0</td>\n      <td>0.16</td>\n      <td>122.0</td>\n      <td>0.38</td>\n      <td>121.0</td>\n      <td>0.33</td>\n      <td>-0.87</td>\n      <td>0.13</td>\n      <td>6.692</td>\n      <td>0.851</td>\n      <td>(132.0, 122.0)</td>\n    </tr>\n    <tr>\n      <th>466</th>\n      <td>132.0</td>\n      <td>0.24</td>\n      <td>133.0</td>\n      <td>0.16</td>\n      <td>121.0</td>\n      <td>0.30</td>\n      <td>120.0</td>\n      <td>0.27</td>\n      <td>-0.89</td>\n      <td>0.11</td>\n      <td>8.091</td>\n      <td>0.876</td>\n      <td>(132.0, 121.0)</td>\n    </tr>\n    <tr>\n      <th>467</th>\n      <td>132.0</td>\n      <td>0.24</td>\n      <td>133.0</td>\n      <td>0.16</td>\n      <td>120.0</td>\n      <td>0.25</td>\n      <td>119.0</td>\n      <td>0.22</td>\n      <td>-0.89</td>\n      <td>0.11</td>\n      <td>8.091</td>\n      <td>0.876</td>\n      <td>(132.0, 120.0)</td>\n    </tr>\n    <tr>\n      <th>468</th>\n      <td>132.0</td>\n      <td>0.24</td>\n      <td>133.0</td>\n      <td>0.16</td>\n      <td>119.0</td>\n      <td>0.21</td>\n      <td>118.0</td>\n      <td>0.19</td>\n      <td>-0.90</td>\n      <td>0.10</td>\n      <td>9.000</td>\n      <td>0.889</td>\n      <td>(132.0, 119.0)</td>\n    </tr>\n    <tr>\n      <th>434</th>\n      <td>133.0</td>\n      <td>0.15</td>\n      <td>134.0</td>\n      <td>0.11</td>\n      <td>122.0</td>\n      <td>0.38</td>\n      <td>121.0</td>\n      <td>0.33</td>\n      <td>-0.91</td>\n      <td>0.09</td>\n      <td>10.111</td>\n      <td>0.901</td>\n      <td>(133.0, 122.0)</td>\n    </tr>\n    <tr>\n      <th>...</th>\n      <td>...</td>\n      <td>...</td>\n      <td>...</td>\n      <td>...</td>\n      <td>...</td>\n      <td>...</td>\n      <td>...</td>\n      <td>...</td>\n      <td>...</td>\n      <td>...</td>\n      <td>...</td>\n      <td>...</td>\n      <td>...</td>\n    </tr>\n    <tr>\n      <th>34</th>\n      <td>146.0</td>\n      <td>0.01</td>\n      <td>148.0</td>\n      <td>0.02</td>\n      <td>119.0</td>\n      <td>0.21</td>\n      <td>118.0</td>\n      <td>0.19</td>\n      <td>-1.99</td>\n      <td>0.01</td>\n      <td>199.000</td>\n      <td>0.995</td>\n      <td>(146.0, 119.0)</td>\n    </tr>\n    <tr>\n      <th>36</th>\n      <td>146.0</td>\n      <td>0.01</td>\n      <td>148.0</td>\n      <td>0.02</td>\n      <td>117.0</td>\n      <td>0.15</td>\n      <td>116.0</td>\n      <td>0.15</td>\n      <td>-2.01</td>\n      <td>-0.01</td>\n      <td>201.000</td>\n      <td>0.995</td>\n      <td>(146.0, 117.0)</td>\n    </tr>\n    <tr>\n      <th>39</th>\n      <td>146.0</td>\n      <td>0.01</td>\n      <td>148.0</td>\n      <td>0.02</td>\n      <td>114.0</td>\n      <td>0.10</td>\n      <td>113.0</td>\n      <td>0.10</td>\n      <td>-2.01</td>\n      <td>-0.01</td>\n      <td>201.000</td>\n      <td>0.995</td>\n      <td>(146.0, 114.0)</td>\n    </tr>\n    <tr>\n      <th>41</th>\n      <td>146.0</td>\n      <td>0.01</td>\n      <td>148.0</td>\n      <td>0.02</td>\n      <td>112.0</td>\n      <td>0.08</td>\n      <td>111.0</td>\n      <td>0.08</td>\n      <td>-2.01</td>\n      <td>-0.01</td>\n      <td>201.000</td>\n      <td>0.995</td>\n      <td>(146.0, 112.0)</td>\n    </tr>\n    <tr>\n      <th>45</th>\n      <td>146.0</td>\n      <td>0.01</td>\n      <td>148.0</td>\n      <td>0.02</td>\n      <td>108.0</td>\n      <td>0.05</td>\n      <td>107.0</td>\n      <td>0.05</td>\n      <td>-2.01</td>\n      <td>-0.01</td>\n      <td>201.000</td>\n      <td>0.995</td>\n      <td>(146.0, 108.0)</td>\n    </tr>\n  </tbody>\n</table>\n<p>430 rows × 13 columns</p>\n</div>"
     },
     "metadata": {},
     "execution_count": 315
    }
   ],
   "source": [
    "pd.set_option('display.max_rows', 100)\n",
    "df_new = df[(df.probability_of_success > 0.75) & (df.risk_to_reward_ratio != float('inf'))]\n",
    "df_new = df_new.sort_values(by=['probability_of_success', 'short_call_strike'], ascending = [True, False])\n",
    "df_new[['short_call_strike','short_call_strike_bid',\n",
    "        'long_call_strike','long_call_strike_ask',\n",
    "        'short_put_strike','short_put_strike_bid', \n",
    "        'long_put_strike','long_put_strike_ask', \n",
    "        'max_loss', 'max_profit', 'risk_to_reward_ratio', 'probability_of_success','break_even_price']]"
   ]
  }
 ]
}